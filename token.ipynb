{
 "cells": [
  {
   "cell_type": "code",
   "execution_count": 3,
   "metadata": {},
   "outputs": [
    {
     "name": "stdout",
     "output_type": "stream",
     "text": [
      "Original data:\n",
      "['上海银行']\n",
      "\n",
      "Indexed data:\n",
      "tensor([[ 101, 1742, 1902,  100, 1945,  102]])\n"
     ]
    }
   ],
   "source": [
    "import numpy as np\n",
    "import torch\n",
    "from transformers import BertTokenizer\n",
    "\n",
    "# 假设你有一个包含文字的NumPy数组\n",
    "data = np.array([\"上海银行\"])\n",
    "\n",
    "# 创建BERT tokenizer\n",
    "tokenizer = BertTokenizer.from_pretrained('bert-base-uncased')\n",
    "\n",
    "# 将文本数据转换为数字序列\n",
    "indexed_data = tokenizer(data.tolist(), padding=True, truncation=True, return_tensors='pt')\n",
    "\n",
    "print(\"Original data:\")\n",
    "print(data)\n",
    "print(\"\\nIndexed data:\")\n",
    "print(indexed_data['input_ids'])"
   ]
  }
 ],
 "metadata": {
  "kernelspec": {
   "display_name": "paper",
   "language": "python",
   "name": "python3"
  },
  "language_info": {
   "codemirror_mode": {
    "name": "ipython",
    "version": 3
   },
   "file_extension": ".py",
   "mimetype": "text/x-python",
   "name": "python",
   "nbconvert_exporter": "python",
   "pygments_lexer": "ipython3",
   "version": "3.8.5"
  }
 },
 "nbformat": 4,
 "nbformat_minor": 2
}
