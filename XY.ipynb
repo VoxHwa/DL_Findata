{
 "cells": [
  {
   "cell_type": "code",
   "execution_count": 1,
   "metadata": {},
   "outputs": [],
   "source": [
    "# 读取csv，比较两列关系，求相关系数\n",
    "import pandas as pd\n",
    "import numpy as np\n",
    "\n",
    "# 读取csv文件\n",
    "df = pd.read_csv('aligned&cleaned.csv')"
   ]
  },
  {
   "cell_type": "code",
   "execution_count": 4,
   "metadata": {},
   "outputs": [
    {
     "name": "stdout",
     "output_type": "stream",
     "text": [
      "R²: 0.25\n",
      "MSE: 0.00\n",
      "RMSE: 0.02\n"
     ]
    }
   ],
   "source": [
    "from sklearn.model_selection import train_test_split\n",
    "from sklearn.linear_model import LinearRegression\n",
    "from sklearn.metrics import mean_squared_error, r2_score\n",
    "\n",
    "y=df['change_ratio'].values\n",
    "X=df['net_inflow_rate'].values.reshape(-1,1)\n",
    "\n",
    "# 将数据集分为训练集和测试集\n",
    "X_train, X_test, y_train, y_test = train_test_split(X, y, test_size=0.2, random_state=42)\n",
    "\n",
    "# 创建线性回归模型\n",
    "model = LinearRegression()\n",
    "\n",
    "# 训练模型\n",
    "model.fit(X_train, y_train)\n",
    "\n",
    "# 使用模型进行预测\n",
    "y_pred = model.predict(X_test)\n",
    "\n",
    "# 计算性能指标\n",
    "r2 = r2_score(y_test, y_pred)  # R²\n",
    "mse = mean_squared_error(y_test, y_pred)  # 均方误差\n",
    "rmse = np.sqrt(mse)  # 均方根误差\n",
    "\n",
    "# 打印性能指标\n",
    "print(f'R²: {r2:.2f}')\n",
    "print(f'MSE: {mse:.2f}')\n",
    "print(f'RMSE: {rmse:.2f}')\n"
   ]
  },
  {
   "cell_type": "code",
   "execution_count": 5,
   "metadata": {},
   "outputs": [
    {
     "name": "stdout",
     "output_type": "stream",
     "text": [
      "回归系数（斜率）: 0.07694546236471675\n",
      "截距（常数项）: 0.0036171471605092897\n"
     ]
    }
   ],
   "source": [
    "# 假设模型已经被训练\n",
    "print(f'回归系数（斜率）: {model.coef_[0]}')\n",
    "print(f'截距（常数项）: {model.intercept_}')"
   ]
  },
  {
   "cell_type": "code",
   "execution_count": 7,
   "metadata": {},
   "outputs": [
    {
     "name": "stdout",
     "output_type": "stream",
     "text": [
      "                            OLS Regression Results                            \n",
      "==============================================================================\n",
      "Dep. Variable:                      y   R-squared:                       0.252\n",
      "Model:                            OLS   Adj. R-squared:                  0.252\n",
      "Method:                 Least Squares   F-statistic:                 3.011e+05\n",
      "Date:                Tue, 26 Mar 2024   Prob (F-statistic):               0.00\n",
      "Time:                        16:38:22   Log-Likelihood:             2.1833e+06\n",
      "No. Observations:              895787   AIC:                        -4.367e+06\n",
      "Df Residuals:                  895785   BIC:                        -4.367e+06\n",
      "Df Model:                           1                                         \n",
      "Covariance Type:            nonrobust                                         \n",
      "==============================================================================\n",
      "                 coef    std err          t      P>|t|      [0.025      0.975]\n",
      "------------------------------------------------------------------------------\n",
      "const          0.0036   2.31e-05    156.550      0.000       0.004       0.004\n",
      "x1             0.0769      0.000    548.722      0.000       0.077       0.077\n",
      "==============================================================================\n",
      "Omnibus:                   434318.122   Durbin-Watson:                   2.001\n",
      "Prob(Omnibus):                  0.000   Jarque-Bera (JB):         12741810.531\n",
      "Skew:                           1.750   Prob(JB):                         0.00\n",
      "Kurtosis:                      21.142   Cond. No.                         6.29\n",
      "==============================================================================\n",
      "\n",
      "Notes:\n",
      "[1] Standard Errors assume that the covariance matrix of the errors is correctly specified.\n"
     ]
    }
   ],
   "source": [
    "import statsmodels.api as sm\n",
    "\n",
    "# 为X添加常数项，以拟合截距\n",
    "X_sm = sm.add_constant(X_train)\n",
    "\n",
    "# 使用statsmodels拟合模型\n",
    "model_sm = sm.OLS(y_train, X_sm).fit()\n",
    "\n",
    "# 打印模型的摘要，包括回归系数、截距和置信区间等\n",
    "print(model_sm.summary())\n"
   ]
  },
  {
   "cell_type": "code",
   "execution_count": 10,
   "metadata": {},
   "outputs": [],
   "source": [
    "from scipy.stats import spearmanr"
   ]
  },
  {
   "cell_type": "code",
   "execution_count": 11,
   "metadata": {},
   "outputs": [
    {
     "name": "stdout",
     "output_type": "stream",
     "text": [
      "Spearman correlation coefficient: 0.690\n",
      "P-value: 0.000\n"
     ]
    }
   ],
   "source": [
    "# 计算Spearman等级相关系数\n",
    "coef, p = spearmanr(X, y)\n",
    "\n",
    "print(f\"Spearman correlation coefficient: {coef:.3f}\")\n",
    "print(f\"P-value: {p:.3f}\")"
   ]
  }
 ],
 "metadata": {
  "kernelspec": {
   "display_name": "paper",
   "language": "python",
   "name": "python3"
  },
  "language_info": {
   "codemirror_mode": {
    "name": "ipython",
    "version": 3
   },
   "file_extension": ".py",
   "mimetype": "text/x-python",
   "name": "python",
   "nbconvert_exporter": "python",
   "pygments_lexer": "ipython3",
   "version": "3.9.18"
  }
 },
 "nbformat": 4,
 "nbformat_minor": 2
}
